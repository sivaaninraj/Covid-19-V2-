{
  "nbformat": 4,
  "nbformat_minor": 0,
  "metadata": {
    "colab": {
      "name": "Assignment2.ipynb",
      "provenance": [],
      "collapsed_sections": [],
      "authorship_tag": "ABX9TyM3WVd3w65EZGncJHtrp19b",
      "include_colab_link": true
    },
    "kernelspec": {
      "name": "python3",
      "display_name": "Python 3"
    }
  },
  "cells": [
    {
      "cell_type": "markdown",
      "metadata": {
        "id": "view-in-github",
        "colab_type": "text"
      },
      "source": [
        "<a href=\"https://colab.research.google.com/github/sivaaninraj/Covid-19-V2-/blob/master/SrcCode.ipynb\" target=\"_parent\"><img src=\"https://colab.research.google.com/assets/colab-badge.svg\" alt=\"Open In Colab\"/></a>"
      ]
    },
    {
      "cell_type": "markdown",
      "metadata": {
        "id": "1YtUNfzbKIJb",
        "colab_type": "text"
      },
      "source": [
        "# Importing Libraries"
      ]
    },
    {
      "cell_type": "code",
      "metadata": {
        "colab_type": "code",
        "id": "ApioAWAvFndN",
        "colab": {}
      },
      "source": [
        "import pandas as pd\n",
        "\n",
        "# Visualisation libraries\n",
        "import matplotlib.pyplot as plt\n",
        "%matplotlib inline\n",
        "\n",
        "# Manipulating the default plot size\n",
        "plt.rcParams['figure.figsize'] = 10, 12\n",
        "\n",
        "\n",
        "import warnings\n",
        "warnings.filterwarnings('ignore')\n",
        "from datetime import datetime\n",
        "import os\n",
        "import re\n",
        "import glob\n",
        "import requests \n",
        "from bs4 import BeautifulSoup\n",
        "import json"
      ],
      "execution_count": null,
      "outputs": []
    },
    {
      "cell_type": "code",
      "metadata": {
        "id": "HDoPc3Du2_RL",
        "colab_type": "code",
        "colab": {}
      },
      "source": [
        "# get data\n",
        "link = 'https://www.mohfw.gov.in/'\n",
        "req = requests.get(link)\n",
        "soup = BeautifulSoup(req.content, \"html.parser\")"
      ],
      "execution_count": null,
      "outputs": []
    },
    {
      "cell_type": "code",
      "metadata": {
        "id": "UGN4i9qq3YZ3",
        "colab_type": "code",
        "colab": {}
      },
      "source": [
        "# get the table head\n",
        "thead = soup.find_all('thead')[-1]\n",
        "# print(thead)\n",
        "\n",
        "# get all the rows in table head\n",
        "head = thead.find_all('tr')\n",
        "# print(head)\n",
        "\n",
        "# get the table tbody\n",
        "tbody = soup.find_all('tbody')[-1]\n",
        "# print(tbody)\n",
        "\n",
        "# get all the rows in table bod\n",
        "body = tbody.find_all('tr')\n",
        "# print(body)"
      ],
      "execution_count": null,
      "outputs": []
    },
    {
      "cell_type": "code",
      "metadata": {
        "id": "aw3L-OoK2wD5",
        "colab_type": "code",
        "colab": {}
      },
      "source": [
        "# container for header rows / column title\n",
        "head_rows = []\n",
        "# container for table body / contents\n",
        "body_rows = []\n",
        "\n",
        "# loop through the head and append each row to head\n",
        "for tr in head:\n",
        "    td = tr.find_all(['th', 'td'])\n",
        "    row = [i.text for i in td]\n",
        "    head_rows.append(row)\n",
        "# print(head_rows)\n",
        "\n",
        "# loop through the body and append each row to body\n",
        "for tr in body:\n",
        "    td = tr.find_all(['th', 'td'])\n",
        "    row = [i.text for i in td]\n",
        "    body_rows.append(row)\n",
        "# print(head_rows)"
      ],
      "execution_count": null,
      "outputs": []
    },
    {
      "cell_type": "code",
      "metadata": {
        "id": "-dSVdO2d2wEE",
        "colab_type": "code",
        "colab": {}
      },
      "source": [
        "# save contents in a dataframe\n",
        "df_bs = pd.DataFrame(body_rows[:len(body_rows)-6], \n",
        "                     columns=head_rows[0])         \n",
        "\n",
        "# Drop 'S. No.' column\n",
        "df_bs.drop('S. No.', axis=1, inplace=True)\n",
        "df_bs = df_bs.rename(columns={'Total Confirmed cases*':'Confirmed cases','Active Cases*':'Active'})\n",
        "\n",
        "df_bs.head(36)"
      ],
      "execution_count": null,
      "outputs": []
    },
    {
      "cell_type": "code",
      "metadata": {
        "id": "D46MC3DY2wEo",
        "colab_type": "code",
        "colab": {}
      },
      "source": [
        "df_India = df_bs.copy()\n",
        "\n",
        "# Clean extra characters from 'Name of State/UT' column\n",
        "df_India['Name of State / UT'] = df_India['Name of State / UT'].str.replace('#', '')\n",
        "df_India['Deaths**'] = df_India['Deaths**'].str.replace('#', '')\n"
      ],
      "execution_count": null,
      "outputs": []
    },
    {
      "cell_type": "markdown",
      "metadata": {
        "id": "XycMUvlM0Q9F",
        "colab_type": "text"
      },
      "source": [
        "# Find the total number of COVID-19 cases in India till date"
      ]
    },
    {
      "cell_type": "code",
      "metadata": {
        "id": "IVWeRwMMRfSQ",
        "colab_type": "code",
        "colab": {
          "base_uri": "https://localhost:8080/",
          "height": 34
        },
        "outputId": "fd9dbd6c-0ce5-41e1-9cbe-989532baa518"
      },
      "source": [
        "#Total number of confirmed cases\n",
        "print('The total confirmed cases in India :' ,pd.to_numeric(df_India['Confirmed cases']).sum()) \n"
      ],
      "execution_count": null,
      "outputs": [
        {
          "output_type": "stream",
          "text": [
            "The total confirmed cases in India : 541033\n"
          ],
          "name": "stdout"
        }
      ]
    },
    {
      "cell_type": "markdown",
      "metadata": {
        "id": "C2-Qm_ZS4yn9",
        "colab_type": "text"
      },
      "source": [
        "# Which state is the most recent with COVID-19 case?"
      ]
    },
    {
      "cell_type": "code",
      "metadata": {
        "id": "pj2LAOTtMkDZ",
        "colab_type": "code",
        "colab": {
          "base_uri": "https://localhost:8080/",
          "height": 101
        },
        "outputId": "abc261d3-6b9c-4a8b-a0bc-a488f96c16d1"
      },
      "source": [
        "response = requests.get('https://api.covid19india.org/data.json')\n",
        "content = response.content\n",
        "parsed = json.loads(content)\n",
        "parsed.keys()\n",
        "state_level = pd.DataFrame(parsed['statewise'])\n",
        "state_level.head()\n",
        "state_level = state_level[['state', 'statecode', 'lastupdatedtime',  'confirmed']]\n",
        "state_level.drop(state_level.index[0])\n",
        "#Recently updated state\n",
        "print(state_level.loc[1])\n",
        "\n"
      ],
      "execution_count": null,
      "outputs": [
        {
          "output_type": "stream",
          "text": [
            "state                      Maharashtra\n",
            "statecode                           MH\n",
            "lastupdatedtime    28/06/2020 20:38:15\n",
            "confirmed                       164626\n",
            "Name: 1, dtype: object\n"
          ],
          "name": "stdout"
        }
      ]
    },
    {
      "cell_type": "markdown",
      "metadata": {
        "id": "4ESnUTiz0gGi",
        "colab_type": "text"
      },
      "source": [
        "# What is the total number of active COVID-19 cases in India?"
      ]
    },
    {
      "cell_type": "code",
      "metadata": {
        "id": "neEjwPTIVmqi",
        "colab_type": "code",
        "colab": {
          "base_uri": "https://localhost:8080/",
          "height": 34
        },
        "outputId": "2c32debe-1919-44d3-dc7c-7143e199438b"
      },
      "source": [
        "#Total number of active cases\n",
        "print('The total active cases in India :' ,pd.to_numeric(df_India['Active']).sum()) "
      ],
      "execution_count": null,
      "outputs": [
        {
          "output_type": "stream",
          "text": [
            "The total active cases in India : 202835\n"
          ],
          "name": "stdout"
        }
      ]
    },
    {
      "cell_type": "markdown",
      "metadata": {
        "id": "HUM73aIJAUcZ",
        "colab_type": "text"
      },
      "source": [
        "# Create multiple visualization and compare thespread of COVID-19 in India with Iran"
      ]
    },
    {
      "cell_type": "markdown",
      "metadata": {
        "id": "JJJb19Ds0vL2",
        "colab_type": "text"
      },
      "source": [
        "# Visualization of covid cases in India"
      ]
    },
    {
      "cell_type": "code",
      "metadata": {
        "id": "CriLxS7bULtf",
        "colab_type": "code",
        "colab": {}
      },
      "source": [
        "confirmed_df = pd.read_csv('https://raw.githubusercontent.com/CSSEGISandData/COVID-19/master/csse_covid_19_data/csse_covid_19_time_series/time_series_covid19_confirmed_global.csv')\n",
        "deaths_df = pd.read_csv('https://raw.githubusercontent.com/CSSEGISandData/COVID-19/master/csse_covid_19_data/csse_covid_19_time_series/time_series_covid19_deaths_global.csv')\n",
        "recovered_df = pd.read_csv('https://raw.githubusercontent.com/CSSEGISandData/COVID-19/master/csse_covid_19_data/csse_covid_19_time_series/time_series_covid19_recovered_global.csv')\n",
        "latest_data = pd.read_csv('https://raw.githubusercontent.com/CSSEGISandData/COVID-19/master/csse_covid_19_data/csse_covid_19_daily_reports/04-04-2020.csv')\n",
        "\n",
        "dates = list(confirmed_df.columns[4:])\n",
        "dates = list(pd.to_datetime(dates))\n",
        "tes = list(pd.to_datetime(dates))\n"
      ],
      "execution_count": null,
      "outputs": []
    },
    {
      "cell_type": "code",
      "metadata": {
        "id": "yLoWofN5Udej",
        "colab_type": "code",
        "colab": {}
      },
      "source": [
        "#Visualization of covid cases in India\n",
        "\n",
        "dates_india = dates[8:]\n",
        "df1 = confirmed_df.groupby('Country/Region').sum().reset_index()\n",
        "df2 = deaths_df.groupby('Country/Region').sum().reset_index()\n",
        "df3 = recovered_df.groupby('Country/Region').sum().reset_index()\n",
        "\n",
        "k = df1[df1['Country/Region']=='India'].loc[:,'1/30/20':]\n",
        "india_confirmed = k.values.tolist()[0] \n",
        "\n",
        "k = df2[df2['Country/Region']=='India'].loc[:,'1/30/20':]\n",
        "india_deaths = k.values.tolist()[0] \n",
        "\n",
        "k = df3[df3['Country/Region']=='India'].loc[:,'1/30/20':]\n",
        "india_recovered = k.values.tolist()[0] \n",
        "\n",
        "plt.figure(figsize= (15,10))\n",
        "plt.xticks(rotation = 90 ,fontsize = 11)\n",
        "plt.yticks(fontsize = 10)\n",
        "plt.xlabel(\"Dates\",fontsize = 20)\n",
        "plt.ylabel('Total cases',fontsize = 20)\n",
        "plt.title(\"Total Confirmed, Active, Death in India\" , fontsize = 20)\n",
        "\n",
        "ax1 = plt.plot_date(y= india_confirmed,x= dates_india,label = 'Confirmed',linestyle ='-',color = 'b')\n",
        "ax2 = plt.plot_date(y= india_recovered,x= dates_india,label = 'Recovered',linestyle ='-',color = 'g')\n",
        "ax3 = plt.plot_date(y= india_deaths,x= dates_india,label = 'Death',linestyle ='-',color = 'r')\n",
        "plt.legend()"
      ],
      "execution_count": null,
      "outputs": []
    },
    {
      "cell_type": "markdown",
      "metadata": {
        "id": "hOHtLgMs06Gl",
        "colab_type": "text"
      },
      "source": [
        "# Visualization of covid cases in Iran"
      ]
    },
    {
      "cell_type": "code",
      "metadata": {
        "colab_type": "code",
        "id": "_9TV-FGndAvB",
        "colab": {}
      },
      "source": [
        "#Visualization of covid cases in Iran\n",
        "\n",
        "dates_iran = dates[8:]\n",
        "df1_iran = confirmed_df.groupby('Country/Region').sum().reset_index()\n",
        "df2_iran = deaths_df.groupby('Country/Region').sum().reset_index()\n",
        "df3_iran = recovered_df.groupby('Country/Region').sum().reset_index()\n",
        "\n",
        "k = df1_iran[df1_iran['Country/Region']=='Iran'].loc[:,'1/30/20':]\n",
        "iran_confirmed = k.values.tolist()[0] \n",
        "\n",
        "k = df2_iran[df2_iran['Country/Region']=='Iran'].loc[:,'1/30/20':]\n",
        "iran_deaths = k.values.tolist()[0] \n",
        "\n",
        "k = df3_iran[df3_iran['Country/Region']=='Iran'].loc[:,'1/30/20':]\n",
        "iran_recovered = k.values.tolist()[0] \n",
        "\n",
        "plt.figure(figsize= (15,10))\n",
        "plt.xticks(rotation = 90 ,fontsize = 11)\n",
        "plt.yticks(fontsize = 10)\n",
        "plt.xlabel(\"Dates\",fontsize = 20)\n",
        "plt.ylabel('Total cases',fontsize = 20)\n",
        "plt.title(\"Total Confirmed, Active, Death in Iran\" , fontsize = 20)\n",
        "\n",
        "ax1 = plt.plot_date(y= iran_confirmed,x= dates_iran,label = 'Confirmed',linestyle ='-',color = 'b')\n",
        "ax2 = plt.plot_date(y= iran_recovered,x= dates_iran,label = 'Recovered',linestyle ='-',color = 'g')\n",
        "ax3 = plt.plot_date(y= iran_deaths,x= dates_iran,label = 'Death',linestyle ='-',color = 'r')\n",
        "plt.legend()"
      ],
      "execution_count": null,
      "outputs": []
    },
    {
      "cell_type": "markdown",
      "metadata": {
        "id": "bzposS84D-hs",
        "colab_type": "text"
      },
      "source": [
        "# If trend of COVID-19 in India is similar to Iran? Inference and Justification"
      ]
    },
    {
      "cell_type": "markdown",
      "metadata": {
        "id": "6XSvQ57kESmn",
        "colab_type": "text"
      },
      "source": [
        "No, there is a huge difference in trend between these two countries\n",
        "\n",
        "*   Firstly, cases were witnessed in March for Iran whereas in India, it started from April.\n",
        "*   Death rate of India is comparatively lower than Iran.\n",
        "*   Statistically, India has more confirmed cases. This is because  India's population is large.\n",
        "*   The confirmed:cured ratio is high for Iran when compared to India"
      ]
    },
    {
      "cell_type": "markdown",
      "metadata": {
        "id": "L4qKAf401MjF",
        "colab_type": "text"
      },
      "source": [
        "# Use Prophet to forecast the data for next 10 days with 97% confidence interval"
      ]
    },
    {
      "cell_type": "code",
      "metadata": {
        "id": "oCw4mK76h8Up",
        "colab_type": "code",
        "colab": {
          "base_uri": "https://localhost:8080/",
          "height": 898
        },
        "outputId": "53ea424d-f05f-4f37-c1a7-2b5b421fc83e"
      },
      "source": [
        "#Prophet to forecast the data for next 10 days\n",
        "\n",
        "from fbprophet import Prophet\n",
        "from fbprophet.plot import plot_plotly, add_changepoints_to_plot\n",
        "\n",
        "k = df1[df1['Country/Region']=='India'].loc[:,'1/22/20':]\n",
        "india_confirmed = k.values.tolist()[0] \n",
        "data = pd.DataFrame(columns = ['ds','y'])\n",
        "data['ds'] = dates\n",
        "data['y'] = india_confirmed\n",
        "\n",
        "prop = Prophet(interval_width=0.97)\n",
        "prop.fit(data)\n",
        "future = prop.make_future_dataframe(periods=10)\n",
        "#future.tail(15)\n",
        "\n",
        "#predicting the future with date, and upper and lower limit of y value\n",
        "forecast = prop.predict(future)\n",
        "forecast[['ds', 'yhat', 'yhat_lower', 'yhat_upper']].tail(10)\n",
        "\n",
        "confirmed_forecast_plot = prop.plot(forecast)\n",
        "confirmed_forecast_plot =prop.plot_components(forecast)"
      ],
      "execution_count": null,
      "outputs": [
        {
          "output_type": "stream",
          "text": [
            "INFO:fbprophet:Disabling yearly seasonality. Run prophet with yearly_seasonality=True to override this.\n",
            "INFO:fbprophet:Disabling daily seasonality. Run prophet with daily_seasonality=True to override this.\n"
          ],
          "name": "stderr"
        },
        {
          "output_type": "display_data",
          "data": {
            "image/png": "[encoded data removed]",
            "text/plain": [
              "<Figure size 720x432 with 1 Axes>"
            ]
          },
          "metadata": {
            "tags": []
          }
        },
        {
          "output_type": "display_data",
          "data": {
            "image/png": "[encoded data removed]",
            "text/plain": [
              "<Figure size 648x432 with 2 Axes>"
            ]
          },
          "metadata": {
            "tags": []
          }
        }
      ]
    }
  ]
}